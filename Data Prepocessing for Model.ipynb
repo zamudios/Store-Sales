{
 "cells": [
  {
   "cell_type": "code",
   "execution_count": 1,
   "id": "ee6e282e",
   "metadata": {},
   "outputs": [],
   "source": [
    "import pandas as pd\n",
    "import numpy as np"
   ]
  },
  {
   "cell_type": "code",
   "execution_count": 4,
   "id": "bf3de760",
   "metadata": {},
   "outputs": [
    {
     "ename": "TypeError",
     "evalue": "read_csv() got an unexpected keyword argument 'ignore_index'",
     "output_type": "error",
     "traceback": [
      "\u001b[0;31m---------------------------------------------------------------------------\u001b[0m",
      "\u001b[0;31mTypeError\u001b[0m                                 Traceback (most recent call last)",
      "Cell \u001b[0;32mIn[4], line 1\u001b[0m\n\u001b[0;32m----> 1\u001b[0m complete_df \u001b[38;5;241m=\u001b[39m pd\u001b[38;5;241m.\u001b[39mread_csv(\u001b[38;5;124m'\u001b[39m\u001b[38;5;124mcleaned_df.csv\u001b[39m\u001b[38;5;124m'\u001b[39m, ignore_index\u001b[38;5;241m=\u001b[39m\u001b[38;5;28;01mTrue\u001b[39;00m)\n",
      "\u001b[0;31mTypeError\u001b[0m: read_csv() got an unexpected keyword argument 'ignore_index'"
     ]
    }
   ],
   "source": [
    "complete_df = pd.read_csv('cleaned_df.csv')"
   ]
  },
  {
   "cell_type": "code",
   "execution_count": 9,
   "id": "63d294ed",
   "metadata": {},
   "outputs": [],
   "source": [
    "complete_df = complete_df.drop(['Unnamed: 0.1', 'Unnamed: 0'], axis = 1)"
   ]
  },
  {
   "cell_type": "code",
   "execution_count": 10,
   "id": "bac2f8d0",
   "metadata": {},
   "outputs": [
    {
     "data": {
      "text/plain": [
       "Index(['id', 'date', 'store_nbr', 'family', 'sales', 'onpromotion', 'data_id',\n",
       "       'dcoilwtico', 'city', 'state', 'type', 'cluster', 'transactions',\n",
       "       'month', 'day', 'year', 'was_holiday'],\n",
       "      dtype='object')"
      ]
     },
     "execution_count": 10,
     "metadata": {},
     "output_type": "execute_result"
    }
   ],
   "source": [
    "complete_df.columns"
   ]
  },
  {
   "cell_type": "code",
   "execution_count": 17,
   "id": "dfb0561d",
   "metadata": {},
   "outputs": [],
   "source": [
    "columns = [ 'sales', 'onpromotion',\n",
    "       'dcoilwtico', 'city', 'state', 'type', 'cluster', 'transactions',\n",
    "       'month', 'day', 'year', 'was_holiday']\n",
    "pre_model_df = complete_df[columns]\n"
   ]
  },
  {
   "cell_type": "code",
   "execution_count": 20,
   "id": "7a7284ea",
   "metadata": {
    "scrolled": true
   },
   "outputs": [
    {
     "name": "stdout",
     "output_type": "stream",
     "text": [
      "<class 'pandas.core.frame.DataFrame'>\n",
      "RangeIndex: 3029400 entries, 0 to 3029399\n",
      "Data columns (total 13 columns):\n",
      " #   Column        Dtype  \n",
      "---  ------        -----  \n",
      " 0   sales         float64\n",
      " 1   onpromotion   int64  \n",
      " 2   data_id       object \n",
      " 3   dcoilwtico    float64\n",
      " 4   city          object \n",
      " 5   state         object \n",
      " 6   type          object \n",
      " 7   cluster       int64  \n",
      " 8   transactions  float64\n",
      " 9   month         int64  \n",
      " 10  day           int64  \n",
      " 11  year          int64  \n",
      " 12  was_holiday   bool   \n",
      "dtypes: bool(1), float64(3), int64(5), object(4)\n",
      "memory usage: 280.2+ MB\n"
     ]
    }
   ],
   "source": [
    "pre_model_df.info()"
   ]
  },
  {
   "cell_type": "code",
   "execution_count": 19,
   "id": "84baa7c7",
   "metadata": {},
   "outputs": [],
   "source": [
    "target = pre_model_df['sales']\n",
    "features = pre_model_df.drop('sales', axis = 1)"
   ]
  },
  {
   "cell_type": "code",
   "execution_count": 15,
   "id": "118a8fd3",
   "metadata": {},
   "outputs": [],
   "source": [
    "# one hot encode and scale data\n",
    "\n",
    "from sklearn.preprocessing import OneHotEncoder\n",
    "from sklearn.compose import ColumnTransformer\n",
    "from sklearn.pipeline import Pipeline\n",
    "\n",
    "# select columns to encode or scale\n",
    "cat_columns = features.select_dtypes(include = ['object'])\n",
    "num_columns = features.select_dtypes(include = ['float64','int64'])\n",
    "\n",
    "# instanciate transformers\n",
    "ohe_transformer = OneHotEncoder(drop = 'first')\n",
    "num_transformer = StandardScaler()\n",
    "\n",
    "# combine transformers\n",
    "preprocessor = ColumnTransformer(\n",
    "    transformers = [\n",
    "        ('cat', ohe_transformer, cat_columns),\n",
    "        ('num', num_transformer, num_columns)\n",
    "    ])\n",
    "\n",
    "# create pipeline\n",
    "pipe = Pipeline(steps = [('preprocessor', preprocessor)])\n",
    "\n",
    "features_processed = pipe.fit_transform(features)\n",
    "\n",
    "# convert back to df\n",
    "column_names = (\n",
    "    categorical_transformer.get_feature_names_out(cat_columns) + num_columns\n",
    "    passthrough_cols\n",
    ")\n",
    "\n",
    "features_processed_df = pd.DataFrame(features_processed, columns = columns_names)"
   ]
  },
  {
   "cell_type": "code",
   "execution_count": null,
   "id": "44dd7a0b",
   "metadata": {},
   "outputs": [],
   "source": [
    "\n"
   ]
  }
 ],
 "metadata": {
  "kernelspec": {
   "display_name": "Python 3 (ipykernel)",
   "language": "python",
   "name": "python3"
  },
  "language_info": {
   "codemirror_mode": {
    "name": "ipython",
    "version": 3
   },
   "file_extension": ".py",
   "mimetype": "text/x-python",
   "name": "python",
   "nbconvert_exporter": "python",
   "pygments_lexer": "ipython3",
   "version": "3.11.5"
  }
 },
 "nbformat": 4,
 "nbformat_minor": 5
}
