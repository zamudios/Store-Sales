{
 "cells": [
  {
   "cell_type": "code",
   "execution_count": 1,
   "id": "ee6e282e",
   "metadata": {},
   "outputs": [],
   "source": [
    "import pandas as pd\n",
    "import numpy as np\n",
    "from sklearn.preprocessing import OneHotEncoder\n",
    "from sklearn.compose import ColumnTransformer\n",
    "from sklearn.pipeline import Pipeline\n",
    "from sklearn.preprocessing import StandardScaler\n"
   ]
  },
  {
   "cell_type": "code",
   "execution_count": 2,
   "id": "bf3de760",
   "metadata": {},
   "outputs": [],
   "source": [
    "complete_df = pd.read_csv('complete_df.csv')"
   ]
  },
  {
   "cell_type": "code",
   "execution_count": 3,
   "id": "63d294ed",
   "metadata": {},
   "outputs": [],
   "source": [
    "complete_df = complete_df.drop(['Unnamed: 0'], axis = 1)"
   ]
  },
  {
   "cell_type": "code",
   "execution_count": 4,
   "id": "bac2f8d0",
   "metadata": {},
   "outputs": [
    {
     "data": {
      "text/plain": [
       "Index(['id', 'date', 'store_nbr', 'family', 'sales', 'onpromotion', 'data_id',\n",
       "       'dcoilwtico', 'city', 'state', 'type', 'cluster', 'transactions',\n",
       "       'month', 'day', 'year', 'was_holiday', 'sale_cat'],\n",
       "      dtype='object')"
      ]
     },
     "execution_count": 4,
     "metadata": {},
     "output_type": "execute_result"
    }
   ],
   "source": [
    "complete_df.columns"
   ]
  },
  {
   "cell_type": "code",
   "execution_count": 5,
   "id": "dfb0561d",
   "metadata": {},
   "outputs": [],
   "source": [
    "columns = [ 'sales', 'onpromotion',\n",
    "       'dcoilwtico', 'city', 'state', 'type', 'cluster', 'transactions',\n",
    "       'month', 'day', 'year', 'was_holiday', 'sale_cat']\n",
    "pre_model_df = complete_df[columns]\n"
   ]
  },
  {
   "cell_type": "code",
   "execution_count": 6,
   "id": "7a7284ea",
   "metadata": {
    "scrolled": true
   },
   "outputs": [
    {
     "name": "stdout",
     "output_type": "stream",
     "text": [
      "<class 'pandas.core.frame.DataFrame'>\n",
      "RangeIndex: 3029400 entries, 0 to 3029399\n",
      "Data columns (total 13 columns):\n",
      " #   Column        Dtype  \n",
      "---  ------        -----  \n",
      " 0   sales         float64\n",
      " 1   onpromotion   int64  \n",
      " 2   dcoilwtico    float64\n",
      " 3   city          object \n",
      " 4   state         object \n",
      " 5   type          object \n",
      " 6   cluster       int64  \n",
      " 7   transactions  float64\n",
      " 8   month         int64  \n",
      " 9   day           int64  \n",
      " 10  year          int64  \n",
      " 11  was_holiday   bool   \n",
      " 12  sale_cat      object \n",
      "dtypes: bool(1), float64(3), int64(5), object(4)\n",
      "memory usage: 280.2+ MB\n"
     ]
    }
   ],
   "source": [
    "pre_model_df.info()"
   ]
  },
  {
   "cell_type": "code",
   "execution_count": 7,
   "id": "4b702649",
   "metadata": {},
   "outputs": [
    {
     "name": "stderr",
     "output_type": "stream",
     "text": [
      "/var/folders/0z/cp95yyc12mdglmpzxtzh5lv40000gn/T/ipykernel_4452/1856530797.py:1: SettingWithCopyWarning: \n",
      "A value is trying to be set on a copy of a slice from a DataFrame.\n",
      "Try using .loc[row_indexer,col_indexer] = value instead\n",
      "\n",
      "See the caveats in the documentation: https://pandas.pydata.org/pandas-docs/stable/user_guide/indexing.html#returning-a-view-versus-a-copy\n",
      "  pre_model_df['was_holiday'] = pre_model_df['was_holiday'].astype('object')\n"
     ]
    }
   ],
   "source": [
    "pre_model_df['was_holiday'] = pre_model_df['was_holiday'].astype('object')"
   ]
  },
  {
   "cell_type": "code",
   "execution_count": 8,
   "id": "4983242c",
   "metadata": {},
   "outputs": [
    {
     "name": "stdout",
     "output_type": "stream",
     "text": [
      "<class 'pandas.core.frame.DataFrame'>\n",
      "RangeIndex: 3029400 entries, 0 to 3029399\n",
      "Data columns (total 13 columns):\n",
      " #   Column        Dtype  \n",
      "---  ------        -----  \n",
      " 0   sales         float64\n",
      " 1   onpromotion   int64  \n",
      " 2   dcoilwtico    float64\n",
      " 3   city          object \n",
      " 4   state         object \n",
      " 5   type          object \n",
      " 6   cluster       int64  \n",
      " 7   transactions  float64\n",
      " 8   month         int64  \n",
      " 9   day           int64  \n",
      " 10  year          int64  \n",
      " 11  was_holiday   object \n",
      " 12  sale_cat      object \n",
      "dtypes: float64(3), int64(5), object(5)\n",
      "memory usage: 300.5+ MB\n"
     ]
    }
   ],
   "source": [
    "pre_model_df.info()"
   ]
  },
  {
   "cell_type": "code",
   "execution_count": 9,
   "id": "84baa7c7",
   "metadata": {},
   "outputs": [],
   "source": [
    "target = pre_model_df['sales']\n",
    "features = pre_model_df.drop('sales', axis = 1)"
   ]
  },
  {
   "cell_type": "code",
   "execution_count": 10,
   "id": "118a8fd3",
   "metadata": {},
   "outputs": [],
   "source": [
    "# select columns to encode or scale\n",
    "cat_df = features.select_dtypes(include = ['object'])\n",
    "num_df = features.select_dtypes(include = ['float64','int64'])\n",
    "\n"
   ]
  },
  {
   "cell_type": "code",
   "execution_count": 11,
   "id": "21eda4d4",
   "metadata": {
    "scrolled": true
   },
   "outputs": [
    {
     "name": "stderr",
     "output_type": "stream",
     "text": [
      "/Users/samuelmendez/anaconda3/lib/python3.11/site-packages/sklearn/preprocessing/_encoders.py:972: FutureWarning: `sparse` was renamed to `sparse_output` in version 1.2 and will be removed in 1.4. `sparse_output` is ignored unless you leave `sparse` to its default value.\n",
      "  warnings.warn(\n"
     ]
    }
   ],
   "source": [
    "# Instantiate OneHotEncoder\n",
    "ohe = OneHotEncoder(drop='first', sparse=False)\n",
    "\n",
    "# Fit and transform the categorical columns\n",
    "cat_processed = ohe.fit_transform(cat_df)\n",
    "\n",
    "# Convert the one-hot-encoded array back to a DataFrame\n",
    "cat_processed_df = pd.DataFrame(cat_processed, columns=ohe.get_feature_names_out(cat_df.columns))\n"
   ]
  },
  {
   "cell_type": "code",
   "execution_count": 12,
   "id": "067cb8c1",
   "metadata": {},
   "outputs": [],
   "source": [
    "# scale data\n",
    "\n",
    "# instanciate scaler\n",
    "scaler = StandardScaler()\n",
    "\n",
    "# fit scaler\n",
    "num_data_scaled = scaler.fit_transform(num_df)\n",
    "\n",
    "\n"
   ]
  },
  {
   "cell_type": "code",
   "execution_count": 13,
   "id": "9b99cef4",
   "metadata": {},
   "outputs": [],
   "source": [
    "# convert scaled numerical data to dataframe\n",
    "num_scaled_df = pd.DataFrame(num_data_scaled, columns = num_df.columns)"
   ]
  },
  {
   "cell_type": "code",
   "execution_count": 14,
   "id": "2ab4de35",
   "metadata": {},
   "outputs": [],
   "source": [
    "# merge the two processed data frames\n",
    "model_data = cat_processed_df.merge(num_scaled_df, left_index=True, right_index=True)"
   ]
  },
  {
   "cell_type": "code",
   "execution_count": 18,
   "id": "694ae693",
   "metadata": {},
   "outputs": [],
   "source": [
    "complete_df_columns = ['id','data_id', 'sales']\n",
    "\n",
    "\n",
    "# merge id and data_id columns\n",
    "model_df = model_data.merge(complete_df[complete_df_columns],left_index=True, right_index=True)"
   ]
  },
  {
   "cell_type": "code",
   "execution_count": 20,
   "id": "68b19905",
   "metadata": {},
   "outputs": [
    {
     "data": {
      "text/plain": [
       "Index(['city_Babahoyo', 'city_Cayambe', 'city_Cuenca', 'city_Daule',\n",
       "       'city_El Carmen', 'city_Esmeraldas', 'city_Guaranda', 'city_Guayaquil',\n",
       "       'city_Ibarra', 'city_Latacunga', 'city_Libertad', 'city_Loja',\n",
       "       'city_Machala', 'city_Manta', 'city_Playas', 'city_Puyo',\n",
       "       'city_Quevedo', 'city_Quito', 'city_Riobamba', 'city_Salinas',\n",
       "       'city_Santo Domingo', 'state_Bolivar', 'state_Chimborazo',\n",
       "       'state_Cotopaxi', 'state_El Oro', 'state_Esmeraldas', 'state_Guayas',\n",
       "       'state_Imbabura', 'state_Loja', 'state_Los Rios', 'state_Manabi',\n",
       "       'state_Pastaza', 'state_Pichincha', 'state_Santa Elena',\n",
       "       'state_Santo Domingo de los Tsachilas', 'state_Tungurahua', 'type_B',\n",
       "       'type_C', 'type_D', 'type_E', 'sale_cat_apparel', 'sale_cat_food_bev',\n",
       "       'sale_cat_household', 'sale_cat_leisure', 'sale_cat_personal_home',\n",
       "       'sale_cat_specialty', 'onpromotion', 'dcoilwtico', 'cluster',\n",
       "       'transactions', 'month', 'day', 'year', 'id', 'data_id', 'sales'],\n",
       "      dtype='object')"
      ]
     },
     "execution_count": 20,
     "metadata": {},
     "output_type": "execute_result"
    }
   ],
   "source": [
    "model_df.columns\n"
   ]
  },
  {
   "cell_type": "code",
   "execution_count": 21,
   "id": "71cb2ebf",
   "metadata": {},
   "outputs": [],
   "source": [
    "model_df.to_csv('model_df.csv')"
   ]
  },
  {
   "cell_type": "code",
   "execution_count": null,
   "id": "a7d09eb8",
   "metadata": {},
   "outputs": [],
   "source": []
  }
 ],
 "metadata": {
  "kernelspec": {
   "display_name": "Python 3 (ipykernel)",
   "language": "python",
   "name": "python3"
  },
  "language_info": {
   "codemirror_mode": {
    "name": "ipython",
    "version": 3
   },
   "file_extension": ".py",
   "mimetype": "text/x-python",
   "name": "python",
   "nbconvert_exporter": "python",
   "pygments_lexer": "ipython3",
   "version": "3.11.5"
  }
 },
 "nbformat": 4,
 "nbformat_minor": 5
}
