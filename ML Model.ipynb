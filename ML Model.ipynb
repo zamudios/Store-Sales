{
 "cells": [
  {
   "cell_type": "code",
   "execution_count": null,
   "id": "78c1efaa",
   "metadata": {},
   "outputs": [],
   "source": [
    "###\n",
    "# insert code feature and target selection\n",
    "\n",
    "###"
   ]
  },
  {
   "cell_type": "code",
   "execution_count": 4,
   "id": "1f8bd4a6",
   "metadata": {},
   "outputs": [],
   "source": [
    "# choose best hyperparameters for models\n",
    "from sklearn.model_selection import RandomizedSearchCV\n",
    "from sklearn.ensemble import RandomForestRegressor\n",
    "from sklearn.ensemble import GradientBoostingRegressor\n",
    "from sklearn.linear_model import LogisticRegression\n",
    "from scipy.stats import randint as sp_randint\n",
    "from scipy.stats import uniform"
   ]
  },
  {
   "cell_type": "markdown",
   "id": "f6469ee6",
   "metadata": {},
   "source": [
    "### Hyperparameter tuning for Random Forest"
   ]
  },
  {
   "cell_type": "code",
   "execution_count": null,
   "id": "a471b3c3",
   "metadata": {},
   "outputs": [],
   "source": [
    "# first round of random search\n",
    "\n",
    "# Define the parameter grid\n",
    "rf_param = {\n",
    "    'n_estimators': sp_randint(100, 1000),\n",
    "    'max_depth': sp_randint(2, 8),\n",
    "    'min_samples_split': sp_randint(2, 20),\n",
    "}\n",
    "\n",
    "rf_reg = RandomForestRegressor(random_state = 42)\n",
    "\n",
    "# Instantiate RandomizedSearchCV\n",
    "random_search1 = RandomizedSearchCV(\n",
    "    estimator=rf_reg,\n",
    "    param_distributions=param_dist,\n",
    "    n_iter=10,  \n",
    "    scoring='neg_mean_squared_error',\n",
    "    cv=3,  # Cross-validation folds\n",
    "    random_state=42\n",
    ")\n",
    "\n",
    "# Fit the RandomizedSearchCV instance\n",
    "random_search1.fit(X_train, y_train)\n",
    "\n",
    "print(\"Best Parameters:\", random_search1.best_params_)"
   ]
  },
  {
   "cell_type": "code",
   "execution_count": null,
   "id": "ae48b1e8",
   "metadata": {},
   "outputs": [],
   "source": [
    "# second round of random search\n",
    "# Define the parameter grid\n",
    "rf_param = {\n",
    "    'n_estimators': sp_randint(),  \n",
    "    'max_depth': sp_randint(),   \n",
    "    'min_samples_split': sp_randint(),\n",
    "}\n",
    "\n",
    "\n",
    "# Instantiate RandomizedSearchCV\n",
    "random_search2 = RandomizedSearchCV(\n",
    "    estimator=rf_reg,\n",
    "    param_distributions=param_dist,\n",
    "    n_iter=10,  \n",
    "    scoring='neg_mean_squared_error',\n",
    "    cv=3,  # Cross-validation folds\n",
    "    random_state=42\n",
    ")\n",
    "\n",
    "\n",
    "# Fit the RandomizedSearchCV instance\n",
    "random_search2.fit(X_train, y_train)\n",
    "\n",
    "print(\"Best Parameters:\", random_search2.best_params_)"
   ]
  },
  {
   "cell_type": "markdown",
   "id": "7050619d",
   "metadata": {},
   "source": [
    "### Hyperparameter tuning for Gradient boosting regresssor"
   ]
  },
  {
   "cell_type": "code",
   "execution_count": null,
   "id": "584e77aa",
   "metadata": {},
   "outputs": [],
   "source": [
    "# first round of random search\n",
    "\n",
    "gb_params = {\n",
    "    'n_estimators': sp_randint(50, 200),\n",
    "    'learning_rate': uniform(0.01, 0.3),\n",
    "    'max_depth': sp_randint(3, 8),\n",
    "    'min_samples_split': sp_randint(2, 20),\n",
    "}\n",
    "\n",
    "gb_reg = GradientBoostingRegressor(random_state = 42)\n",
    "\n",
    "gb1_random_search = RandomizedSearchCV(\n",
    "    estimator=gb_reg,\n",
    "    param_distributions=param_dist,\n",
    "    n_iter=10,\n",
    "    scoring='neg_mean_squared_error',\n",
    "    cv=3,\n",
    "    random_state=42,\n",
    "    n_jobs=-1\n",
    ")\n",
    "\n",
    "gb1_random_search.fit(X_train, y_train)\n"
   ]
  },
  {
   "cell_type": "code",
   "execution_count": null,
   "id": "a01029e5",
   "metadata": {},
   "outputs": [],
   "source": []
  },
  {
   "cell_type": "code",
   "execution_count": null,
   "id": "f8fc529f",
   "metadata": {},
   "outputs": [],
   "source": []
  },
  {
   "cell_type": "code",
   "execution_count": null,
   "id": "779fa062",
   "metadata": {},
   "outputs": [],
   "source": []
  }
 ],
 "metadata": {
  "kernelspec": {
   "display_name": "Python 3 (ipykernel)",
   "language": "python",
   "name": "python3"
  },
  "language_info": {
   "codemirror_mode": {
    "name": "ipython",
    "version": 3
   },
   "file_extension": ".py",
   "mimetype": "text/x-python",
   "name": "python",
   "nbconvert_exporter": "python",
   "pygments_lexer": "ipython3",
   "version": "3.11.5"
  }
 },
 "nbformat": 4,
 "nbformat_minor": 5
}
